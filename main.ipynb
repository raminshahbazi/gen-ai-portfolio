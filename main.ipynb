{
  "cells": [
    {
      "cell_type": "markdown",
      "source": [
        "Install Requirements ()"
      ],
      "metadata": {
        "id": "N9QpaHdWScCx"
      }
    },
    {
      "cell_type": "code",
      "source": [
        "!pip install autogen-agentchat autogen-ext[openai] -q\n",
        "!pip install groq -q\n",
        "!pip install arxiv -q\n",
        "!pip install PyPDF2 -q"
      ],
      "metadata": {
        "id": "Bv3056-vSioY"
      },
      "execution_count": 1,
      "outputs": []
    },
    {
      "cell_type": "code",
      "source": [
        "from autogen_agentchat.agents import AssistantAgent, UserProxyAgent\n",
        "from autogen_agentchat.conditions import TextMentionTermination\n",
        "from autogen_agentchat.teams import RoundRobinGroupChat\n",
        "from autogen_agentchat.ui import Console\n",
        "from autogen_ext.models.openai import OpenAIChatCompletionClient\n",
        "import arxiv\n",
        "from autogen_core.tools import FunctionTool\n",
        "from autogen_agentchat.conditions import MaxMessageTermination"
      ],
      "metadata": {
        "id": "b5rD4jrbjD52"
      },
      "execution_count": 2,
      "outputs": []
    },
    {
      "cell_type": "code",
      "source": [
        "import os\n",
        "from getpass import getpass\n",
        "\n",
        "tokenGROQ = getpass('Enter GROQ_API_KEY here: ')\n",
        "os.environ[\"GROQ_API_KEY\"] = tokenGROQ"
      ],
      "metadata": {
        "colab": {
          "base_uri": "https://localhost:8080/"
        },
        "id": "0i8fNwjgR_1Q",
        "outputId": "b987cd41-5d87-4cec-f472-cfac216a5caf"
      },
      "execution_count": 3,
      "outputs": [
        {
          "name": "stdout",
          "output_type": "stream",
          "text": [
            "Enter GROQ_API_KEY here: ··········\n"
          ]
        }
      ]
    },
    {
      "cell_type": "code",
      "source": [
        "from autogen_agentchat.agents import AssistantAgent, UserProxyAgent\n",
        "from autogen_agentchat.conditions import TextMentionTermination\n",
        "from autogen_agentchat.teams import RoundRobinGroupChat\n",
        "from autogen_agentchat.ui import Console\n",
        "from autogen_ext.models.openai import OpenAIChatCompletionClient\n",
        "\n",
        "# Create the agents.\n",
        "custom_model_client = OpenAIChatCompletionClient(\n",
        "    model=\"llama-3.3-70b-versatile\",\n",
        "    base_url=\"https://api.groq.com/openai/v1\",\n",
        "    api_key=os.environ[\"GROQ_API_KEY\"],\n",
        "    model_info={\n",
        "        \"vision\": False,\n",
        "        \"function_calling\": True,\n",
        "        \"json_output\": False,\n",
        "        \"family\": \"unknown\",\n",
        "    },\n",
        ")\n",
        "assistant = AssistantAgent(\"assistant\", model_client=custom_model_client)\n",
        "user_proxy = UserProxyAgent(\"user_proxy\", input_func=input)  # Use input() to get user input from console.\n",
        "\n",
        "# Create the termination condition which will end the conversation when the user says \"APPROVE\".\n",
        "termination = TextMentionTermination(\"DONE\")\n",
        "\n",
        "# Create the team.\n",
        "team = RoundRobinGroupChat([assistant, user_proxy], termination_condition=termination)\n",
        "\n",
        "# Run the conversation and stream to the console.\n",
        "stream = team.run_stream(task=\"the pdf file is a little bit large, can you read it if i sent it to you completely, or you need it in small chunks?\")\n",
        "await Console(stream)"
      ],
      "metadata": {
        "colab": {
          "base_uri": "https://localhost:8080/"
        },
        "id": "G_wawy2QRzD7",
        "outputId": "059970c4-f95c-4488-8d31-9c950743a607"
      },
      "execution_count": null,
      "outputs": [
        {
          "output_type": "stream",
          "name": "stdout",
          "text": [
            "---------- user ----------\n",
            "the pdf file is a little bit large, can you read it if i sent it to you completely, or you need it in small chunks?\n",
            "---------- assistant ----------\n",
            "I'm a large language model, I don't have the capability to directly receive or store files, including PDFs. I can process text-based input, but I don't have a file upload or download mechanism.\n",
            "\n",
            "If you'd like to share the content of the PDF with me, you can try copying and pasting the text into this chat window. If the text is too long, you can break it up into smaller chunks and send them to me one at a time. I'll do my best to assist you with the content.\n"
          ]
        }
      ]
    },
    {
      "cell_type": "code",
      "source": [
        "import arxiv\n",
        "\n",
        "# Construct the default API client.\n",
        "client = arxiv.Client()\n",
        "\n",
        "# Search for the 10 most recent articles matching the keyword \"quantum.\"\n",
        "search = arxiv.Search(\n",
        "  query = \"Multi-agent LLM systems\",\n",
        "  max_results = 1,\n",
        "  sort_by = arxiv.SortCriterion.SubmittedDate\n",
        ")\n",
        "\n",
        "for result in client.results(search):\n",
        "  print(f\"Entry ID: {result.entry_id}\")\n",
        "  print(f\"\\nTitle: {result.title}\")\n",
        "  print(f\"\\nAuthors: {', '.join([a.name for a in result.authors])}\")\n",
        "  print(f\"\\nPublished: {result.published}\")\n",
        "  print(f\"\\nUpdated: {result.updated}\")\n",
        "  print(f\"\\nSummary: {result.summary}\")\n",
        "  print(f\"\\nComment: {result.comment}\")\n",
        "  print(f\"\\nJournal Reference: {result.journal_ref}\")\n",
        "  print(f\"\\nDOI: {result.doi}\")\n",
        "  print(f\"\\nPrimary Category: {result.primary_category}\")\n",
        "  print(f\"\\nCategories: {result.categories}\")\n",
        "  print(f\"\\nPDF URL: {result.pdf_url}\\n\")"
      ],
      "metadata": {
        "id": "Q3--wxChSczw"
      },
      "execution_count": null,
      "outputs": []
    },
    {
      "cell_type": "code",
      "source": [
        "paper = next(arxiv.Client().results(arxiv.Search(id_list=[\"1605.08386v1\"])))\n",
        "print(paper.get_short_id())"
      ],
      "metadata": {
        "id": "Ep87-jkLTrUK"
      },
      "execution_count": null,
      "outputs": []
    },
    {
      "cell_type": "code",
      "source": [
        "import PyPDF2\n",
        "import openai\n",
        "\n",
        "# Step 1: Extract text from the PDF\n",
        "pdf_path = \"/content/downloaded-paper.pdf\"  # Adjust the path as needed\n",
        "paper_text = \"\"\n",
        "with open(pdf_path, \"rb\") as f:\n",
        "    reader = PyPDF2.PdfReader(f)\n",
        "    for page in reader.pages:\n",
        "        page_text = page.extract_text()\n",
        "        if page_text:\n",
        "            paper_text += page_text + \"\\n\"\n",
        "\n",
        "# Step 2: Split the text into manageable chunks\n",
        "def chunk_text(text, max_length=2000):\n",
        "    \"\"\"Splits text into chunks of approximately max_length characters.\"\"\"\n",
        "    return [text[i:i+max_length] for i in range(0, len(text), max_length)]\n",
        "\n",
        "\n",
        "chunks = chunk_text(paper_text, max_length=2000)\n"
      ],
      "metadata": {
        "id": "5AunGDZrjK2O"
      },
      "execution_count": null,
      "outputs": []
    },
    {
      "cell_type": "code",
      "source": [
        "print(chunks[1])"
      ],
      "metadata": {
        "id": "x0vdjyOajg2v"
      },
      "execution_count": null,
      "outputs": []
    },
    {
      "cell_type": "markdown",
      "source": [
        "**1. Research Agent (Paper Retriever)**\n",
        "\n",
        "    Purpose: Searches for and downloads relevant academic papers from databases (e.g., Google Scholar, ArXiv, Semantic Scholar).\n",
        "    Responsibilities:\n",
        "    1.   Querying research databases with relevant keywords.\n",
        "    2.   Downloading full-text articles or abstracts.\n",
        "    3.   Storing references in a structured manner (e.g., BibTeX or JSON format)."
      ],
      "metadata": {
        "id": "uo3BTDsURFpG"
      }
    },
    {
      "cell_type": "code",
      "source": [
        "def arxiv_search(query: str, max_results: int = 2) -> list:  # type: ignore[type-arg]\n",
        "    \"\"\"\n",
        "    Search Arxiv for papers and return the results including abstracts.\n",
        "    \"\"\"\n",
        "    import arxiv\n",
        "\n",
        "    client = arxiv.Client()\n",
        "    search = arxiv.Search(query=query, max_results=max_results, sort_by=arxiv.SortCriterion.Relevance)\n",
        "    print(\"************ calling\")\n",
        "    results = []\n",
        "    for paper in client.results(search):\n",
        "        results.append(\n",
        "            {\n",
        "                \"title\": paper.title,\n",
        "            }\n",
        "        )\n",
        "\n",
        "    return results"
      ],
      "metadata": {
        "id": "1Xh-w2-nRyJ3"
      },
      "execution_count": 75,
      "outputs": []
    },
    {
      "cell_type": "code",
      "source": [
        "\n",
        "arxiv_search_tool = FunctionTool(\n",
        "    arxiv_search, description=\"Search Arxiv for papers related to a given topic, including abstracts\"\n",
        ")"
      ],
      "metadata": {
        "id": "bgMQA6XXR0Df"
      },
      "execution_count": 76,
      "outputs": []
    },
    {
      "cell_type": "code",
      "source": [
        "arxiv_search_agent = AssistantAgent(\n",
        "    name=\"Arxiv_Search_Agent\",\n",
        "    tools=[arxiv_search_tool],\n",
        "    model_client = OpenAIChatCompletionClient(\n",
        "      model=\"llama-3.3-70b-versatile\",\n",
        "      base_url=\"https://api.groq.com/openai/v1\",\n",
        "      api_key=os.environ[\"GROQ_API_KEY\"],\n",
        "      model_info={\n",
        "        \"vision\": False,\n",
        "        \"function_calling\": True,\n",
        "        \"json_output\": False,\n",
        "        \"family\": \"unknown\",\n",
        "      },\n",
        "    ),\n",
        "    description=\"An agent that can search Arxiv for papers related to a given topic, including abstracts\",\n",
        "    system_message=\"You are a helpful AI assistant. Solve tasks using your tools. Specifically, you can take into consideration the user's request and craft a search query that is most likely to return relevant academi papers.\",\n",
        ")"
      ],
      "metadata": {
        "id": "9GjAv34GREHt"
      },
      "execution_count": 77,
      "outputs": []
    },
    {
      "cell_type": "markdown",
      "source": [
        "**2. Reader Agent (Document Processor)**\n",
        "\n",
        "    Purpose: Reads, parses, and extracts key information from research papers.\n",
        "    Responsibilities:\n",
        "    1.   Extracting abstracts, keywords, and main sections (introduction, methodology, results, discussion).\n",
        "    2.   Identifying key arguments, methodologies, and findings.\n",
        "    3.   Converting scanned PDFs to machine-readable text (OCR, if needed)."
      ],
      "metadata": {
        "id": "7maJNTzUSCfw"
      }
    },
    {
      "cell_type": "code",
      "source": [
        "report_agent = AssistantAgent(\n",
        "    name=\"Report_Agent\",\n",
        "    model_client = OpenAIChatCompletionClient(\n",
        "      model=\"llama-3.3-70b-versatile\",\n",
        "      base_url=\"https://api.groq.com/openai/v1\",\n",
        "      api_key=os.environ[\"GROQ_API_KEY\"],\n",
        "      model_info={\n",
        "        \"vision\": False,\n",
        "        \"function_calling\": True,\n",
        "        \"json_output\": False,\n",
        "        \"family\": \"unknown\",\n",
        "      },\n",
        "    ),\n",
        "    description=\"Generate a report based on a given topic\",\n",
        "    system_message=\"You are a helpful assistant. Your task is to get the papers info mostly only titles from another agent you're gonna select only recent one and give it back to the user, user might ask questions you still need to answer their questions.\",\n",
        ")"
      ],
      "metadata": {
        "id": "8-WTA6VISSc7"
      },
      "execution_count": 78,
      "outputs": []
    },
    {
      "cell_type": "markdown",
      "source": [
        "**5. Human Feedback Agent (Interactive Editor)**\n",
        "\n",
        "    Purpose: Allows human users to provide feedback and modify the generated text.\n",
        "    Responsibilities:\n",
        "        1.   Displaying the draft for user review.\n",
        "        2.   Accepting edits, comments, and suggestions.\n",
        "        3.   Incorporating changes into the final version."
      ],
      "metadata": {
        "id": "pd4bpMHQUa3x"
      }
    },
    {
      "cell_type": "code",
      "source": [
        "user_proxy = UserProxyAgent(\"user_proxy\", input_func=input)"
      ],
      "metadata": {
        "id": "2X2u2sPTUq76"
      },
      "execution_count": 79,
      "outputs": []
    },
    {
      "cell_type": "markdown",
      "source": [
        "Finally, we will create a team of agents and configure them to perform the tasks."
      ],
      "metadata": {
        "id": "vedVfvXMTKvl"
      }
    },
    {
      "cell_type": "code",
      "source": [
        "text_mention_termination = TextMentionTermination(\"TERMINATE\")\n",
        "max_messages_termination = MaxMessageTermination(max_messages=25)\n",
        "termination = text_mention_termination | max_messages_termination\n",
        "\n",
        "\n",
        "team = RoundRobinGroupChat(\n",
        "    participants=[arxiv_search_agent, report_agent, user_proxy], termination_condition=termination\n",
        ")"
      ],
      "metadata": {
        "id": "9_m7HjbtTRui"
      },
      "execution_count": 80,
      "outputs": []
    },
    {
      "cell_type": "code",
      "source": [
        "await Console(\n",
        "    team.run_stream(\n",
        "        task=\"Give me name of some research papers reagrding no code tools\",\n",
        "    )\n",
        ")"
      ],
      "metadata": {
        "colab": {
          "base_uri": "https://localhost:8080/"
        },
        "id": "kDwrDghbTW_-",
        "outputId": "05c5818b-e03b-4779-8c7d-05dc340bfc4a"
      },
      "execution_count": 82,
      "outputs": [
        {
          "output_type": "stream",
          "name": "stdout",
          "text": [
            "---------- user ----------\n",
            "Give me name of some research papers reagrding no code tools\n",
            "************ calling---------- Arxiv_Search_Agent ----------\n",
            "\n",
            "[FunctionCall(id='call_asaz', arguments='{\"query\": \"no code tools research papers\", \"max_results\": 5}', name='arxiv_search')]\n",
            "---------- Arxiv_Search_Agent ----------\n",
            "[FunctionExecutionResult(content='[{\\'title\\': \"Ease on Down the Code: Complex Collaborative Qualitative Coding Simplified with \\'Code Wizard\\'\"}, {\\'title\\': \\'Bridging the Gap: A Survey and Classification of Research-Informed Ethical Hacking Tools\\'}, {\\'title\\': \\'A Tool for In-depth Analysis of Code Execution Reasoning of Large Language Models\\'}, {\\'title\\': \\'Deep Learning-Based Video Coding: A Review and A Case Study\\'}, {\\'title\\': \\'Code Swarm: A Code Generation Tool Based on the Automatic Derivation of Transformation Rule Set\\'}]', call_id='call_asaz', is_error=False)]\n",
            "---------- Arxiv_Search_Agent ----------\n",
            "[{'title': \"Ease on Down the Code: Complex Collaborative Qualitative Coding Simplified with 'Code Wizard'\"}, {'title': 'Bridging the Gap: A Survey and Classification of Research-Informed Ethical Hacking Tools'}, {'title': 'A Tool for In-depth Analysis of Code Execution Reasoning of Large Language Models'}, {'title': 'Deep Learning-Based Video Coding: A Review and A Case Study'}, {'title': 'Code Swarm: A Code Generation Tool Based on the Automatic Derivation of Transformation Rule Set'}]\n",
            "---------- Report_Agent ----------\n",
            "Here are the titles of some recent research papers regarding no-code tools:\n",
            "\n",
            "1. **\"Ease on Down the Code**: Complex Collaborative Qualitative Coding Simplified with 'Code Wizard'\"\n",
            "2. **\"Code Swarm**: A Code Generation Tool Based on the Automatic Derivation of Transformation Rule Set\"\n",
            "3. \"A Tool for In-depth Analysis of Code Execution Reasoning of Large Language Models\"\n",
            "\n",
            "These papers seem to be related to no-code or low-code development, code generation, and code analysis. Do you have any specific questions about these papers or would you like me to help with something else?\n",
            "Enter your response: give me a paper regarding multi-agents\n",
            "---------- user_proxy ----------\n",
            "give me a paper regarding multi-agents\n",
            "************ calling\n",
            "---------- Arxiv_Search_Agent ----------\n",
            "[FunctionCall(id='call_n5y6', arguments='{\"query\": \"multi-agent systems research paper\", \"max_results\": 1}', name='arxiv_search')]\n",
            "---------- Arxiv_Search_Agent ----------\n",
            "[FunctionExecutionResult(content=\"[{'title': 'From Single Agent to Multi-Agent: Improving Traffic Signal Control'}]\", call_id='call_n5y6', is_error=False)]\n",
            "---------- Arxiv_Search_Agent ----------\n",
            "[{'title': 'From Single Agent to Multi-Agent: Improving Traffic Signal Control'}]\n",
            "---------- Report_Agent ----------\n",
            "Here's a research paper regarding multi-agents:\n",
            "\n",
            "1. \"From Single Agent to Multi-Agent: Improving Traffic Signal Control\"\n",
            "\n",
            "This paper explores the application of multi-agent systems to improve traffic signal control, which is a great example of how multi-agents can be used to solve complex real-world problems. Would you like to know more about this paper or is there something else I can help you with?\n",
            "Enter your response: about ai in health care\n",
            "---------- user_proxy ----------\n",
            "about ai in health care\n",
            "************ calling---------- Arxiv_Search_Agent ----------\n",
            "\n",
            "[FunctionCall(id='call_f921', arguments='{\"query\": \"ai in healthcare research papers\", \"max_results\": 5}', name='arxiv_search')]\n",
            "---------- Arxiv_Search_Agent ----------\n",
            "[FunctionExecutionResult(content=\"[{'title': 'Application of AI in Nutrition'}, {'title': 'Securing AI-based Healthcare Systems using Blockchain Technology: A State-of-the-Art Systematic Literature Review and Future Research Directions'}, {'title': 'Explainable AI meets Healthcare: A Study on Heart Disease Dataset'}, {'title': 'From Military to Healthcare: Adopting and Expanding Ethical Principles for Generative Artificial Intelligence'}, {'title': 'Integrative AI-Driven Strategies for Advancing Precision Medicine in Infectious Diseases and Beyond: A Novel Multidisciplinary Approach'}]\", call_id='call_f921', is_error=False)]\n",
            "---------- Arxiv_Search_Agent ----------\n",
            "[{'title': 'Application of AI in Nutrition'}, {'title': 'Securing AI-based Healthcare Systems using Blockchain Technology: A State-of-the-Art Systematic Literature Review and Future Research Directions'}, {'title': 'Explainable AI meets Healthcare: A Study on Heart Disease Dataset'}, {'title': 'From Military to Healthcare: Adopting and Expanding Ethical Principles for Generative Artificial Intelligence'}, {'title': 'Integrative AI-Driven Strategies for Advancing Precision Medicine in Infectious Diseases and Beyond: A Novel Multidisciplinary Approach'}]\n",
            "---------- Report_Agent ----------\n",
            "Here are some research papers about AI in healthcare:\n",
            "\n",
            "1. \"Explainable AI meets Healthcare: A Study on Heart Disease Dataset\"\n",
            "2. \"Integrative AI-Driven Strategies for Advancing Precision Medicine in Infectious Diseases and Beyond: A Novel Multidisciplinary Approach\"\n",
            "3. \"Securing AI-based Healthcare Systems using Blockchain Technology: A State-of-the-Art Systematic Literature Review and Future Research Directions\"\n",
            "\n",
            "These papers discuss various aspects of AI in healthcare, including explainable AI, precision medicine, and security. Would you like me to summarize any of these papers or provide more information on a specific topic?\n",
            "Enter your response: TERMINATE\n",
            "---------- user_proxy ----------\n",
            "TERMINATE\n"
          ]
        },
        {
          "output_type": "execute_result",
          "data": {
            "text/plain": [
              "TaskResult(messages=[TextMessage(source='user', models_usage=None, content='Give me name of some research papers reagrding no code tools', type='TextMessage'), ToolCallRequestEvent(source='Arxiv_Search_Agent', models_usage=RequestUsage(prompt_tokens=1689, completion_tokens=26), content=[FunctionCall(id='call_asaz', arguments='{\"query\": \"no code tools research papers\", \"max_results\": 5}', name='arxiv_search')], type='ToolCallRequestEvent'), ToolCallExecutionEvent(source='Arxiv_Search_Agent', models_usage=None, content=[FunctionExecutionResult(content='[{\\'title\\': \"Ease on Down the Code: Complex Collaborative Qualitative Coding Simplified with \\'Code Wizard\\'\"}, {\\'title\\': \\'Bridging the Gap: A Survey and Classification of Research-Informed Ethical Hacking Tools\\'}, {\\'title\\': \\'A Tool for In-depth Analysis of Code Execution Reasoning of Large Language Models\\'}, {\\'title\\': \\'Deep Learning-Based Video Coding: A Review and A Case Study\\'}, {\\'title\\': \\'Code Swarm: A Code Generation Tool Based on the Automatic Derivation of Transformation Rule Set\\'}]', call_id='call_asaz', is_error=False)], type='ToolCallExecutionEvent'), ToolCallSummaryMessage(source='Arxiv_Search_Agent', models_usage=None, content='[{\\'title\\': \"Ease on Down the Code: Complex Collaborative Qualitative Coding Simplified with \\'Code Wizard\\'\"}, {\\'title\\': \\'Bridging the Gap: A Survey and Classification of Research-Informed Ethical Hacking Tools\\'}, {\\'title\\': \\'A Tool for In-depth Analysis of Code Execution Reasoning of Large Language Models\\'}, {\\'title\\': \\'Deep Learning-Based Video Coding: A Review and A Case Study\\'}, {\\'title\\': \\'Code Swarm: A Code Generation Tool Based on the Automatic Derivation of Transformation Rule Set\\'}]', type='ToolCallSummaryMessage'), TextMessage(source='Report_Agent', models_usage=RequestUsage(prompt_tokens=1459, completion_tokens=120), content='Here are the titles of some recent research papers regarding no-code tools:\\n\\n1. **\"Ease on Down the Code**: Complex Collaborative Qualitative Coding Simplified with \\'Code Wizard\\'\"\\n2. **\"Code Swarm**: A Code Generation Tool Based on the Automatic Derivation of Transformation Rule Set\"\\n3. \"A Tool for In-depth Analysis of Code Execution Reasoning of Large Language Models\"\\n\\nThese papers seem to be related to no-code or low-code development, code generation, and code analysis. Do you have any specific questions about these papers or would you like me to help with something else?', type='TextMessage'), UserInputRequestedEvent(source='user_proxy', models_usage=None, request_id='e459ee01-ff65-451d-949b-eb3dfc9664c8', content='', type='UserInputRequestedEvent'), TextMessage(source='user_proxy', models_usage=None, content='give me a paper regarding multi-agents', type='TextMessage'), ToolCallRequestEvent(source='Arxiv_Search_Agent', models_usage=RequestUsage(prompt_tokens=1971, completion_tokens=26), content=[FunctionCall(id='call_n5y6', arguments='{\"query\": \"multi-agent systems research paper\", \"max_results\": 1}', name='arxiv_search')], type='ToolCallRequestEvent'), ToolCallExecutionEvent(source='Arxiv_Search_Agent', models_usage=None, content=[FunctionExecutionResult(content=\"[{'title': 'From Single Agent to Multi-Agent: Improving Traffic Signal Control'}]\", call_id='call_n5y6', is_error=False)], type='ToolCallExecutionEvent'), ToolCallSummaryMessage(source='Arxiv_Search_Agent', models_usage=None, content=\"[{'title': 'From Single Agent to Multi-Agent: Improving Traffic Signal Control'}]\", type='ToolCallSummaryMessage'), TextMessage(source='Report_Agent', models_usage=RequestUsage(prompt_tokens=1620, completion_tokens=82), content='Here\\'s a research paper regarding multi-agents:\\n\\n1. \"From Single Agent to Multi-Agent: Improving Traffic Signal Control\"\\n\\nThis paper explores the application of multi-agent systems to improve traffic signal control, which is a great example of how multi-agents can be used to solve complex real-world problems. Would you like to know more about this paper or is there something else I can help you with?', type='TextMessage'), UserInputRequestedEvent(source='user_proxy', models_usage=None, request_id='490ee36e-54ac-4543-9510-9a7c16c8b5c6', content='', type='UserInputRequestedEvent'), TextMessage(source='user_proxy', models_usage=None, content='about ai in health care', type='TextMessage'), ToolCallRequestEvent(source='Arxiv_Search_Agent', models_usage=RequestUsage(prompt_tokens=2122, completion_tokens=26), content=[FunctionCall(id='call_f921', arguments='{\"query\": \"ai in healthcare research papers\", \"max_results\": 5}', name='arxiv_search')], type='ToolCallRequestEvent'), ToolCallExecutionEvent(source='Arxiv_Search_Agent', models_usage=None, content=[FunctionExecutionResult(content=\"[{'title': 'Application of AI in Nutrition'}, {'title': 'Securing AI-based Healthcare Systems using Blockchain Technology: A State-of-the-Art Systematic Literature Review and Future Research Directions'}, {'title': 'Explainable AI meets Healthcare: A Study on Heart Disease Dataset'}, {'title': 'From Military to Healthcare: Adopting and Expanding Ethical Principles for Generative Artificial Intelligence'}, {'title': 'Integrative AI-Driven Strategies for Advancing Precision Medicine in Infectious Diseases and Beyond: A Novel Multidisciplinary Approach'}]\", call_id='call_f921', is_error=False)], type='ToolCallExecutionEvent'), ToolCallSummaryMessage(source='Arxiv_Search_Agent', models_usage=None, content=\"[{'title': 'Application of AI in Nutrition'}, {'title': 'Securing AI-based Healthcare Systems using Blockchain Technology: A State-of-the-Art Systematic Literature Review and Future Research Directions'}, {'title': 'Explainable AI meets Healthcare: A Study on Heart Disease Dataset'}, {'title': 'From Military to Healthcare: Adopting and Expanding Ethical Principles for Generative Artificial Intelligence'}, {'title': 'Integrative AI-Driven Strategies for Advancing Precision Medicine in Infectious Diseases and Beyond: A Novel Multidisciplinary Approach'}]\", type='ToolCallSummaryMessage'), TextMessage(source='Report_Agent', models_usage=RequestUsage(prompt_tokens=1834, completion_tokens=126), content='Here are some research papers about AI in healthcare:\\n\\n1. \"Explainable AI meets Healthcare: A Study on Heart Disease Dataset\"\\n2. \"Integrative AI-Driven Strategies for Advancing Precision Medicine in Infectious Diseases and Beyond: A Novel Multidisciplinary Approach\"\\n3. \"Securing AI-based Healthcare Systems using Blockchain Technology: A State-of-the-Art Systematic Literature Review and Future Research Directions\"\\n\\nThese papers discuss various aspects of AI in healthcare, including explainable AI, precision medicine, and security. Would you like me to summarize any of these papers or provide more information on a specific topic?', type='TextMessage'), UserInputRequestedEvent(source='user_proxy', models_usage=None, request_id='bb242dca-8a7d-4e2d-9f9e-1d1509d36798', content='', type='UserInputRequestedEvent'), TextMessage(source='user_proxy', models_usage=None, content='TERMINATE', type='TextMessage')], stop_reason=\"Text 'TERMINATE' mentioned\")"
            ]
          },
          "metadata": {},
          "execution_count": 82
        }
      ]
    },
    {
      "cell_type": "code",
      "source": [
        "from autogen_agentchat.agents import AssistantAgent\n",
        "from autogen_agentchat.base import Handoff\n",
        "from autogen_agentchat.conditions import HandoffTermination, TextMentionTermination\n",
        "from autogen_agentchat.teams import RoundRobinGroupChat\n",
        "from autogen_agentchat.ui import Console\n",
        "from autogen_ext.models.openai import OpenAIChatCompletionClient\n",
        "\n",
        "custom_model_client = OpenAIChatCompletionClient(\n",
        "    model=\"llama-3.3-70b-versatile\",\n",
        "    base_url=\"https://api.groq.com/openai/v1\",\n",
        "    api_key=os.environ[\"GROQ_API_KEY\"],\n",
        "    model_info={\n",
        "        \"vision\": False,\n",
        "        \"function_calling\": True,\n",
        "        \"json_output\": False,\n",
        "        \"family\": \"unknown\",\n",
        "    },\n",
        ")\n",
        "\n",
        "# Create a lazy assistant agent that always hands off to the user.\n",
        "lazy_agent = AssistantAgent(\n",
        "    \"assistant\",\n",
        "    model_client=custom_model_client,\n",
        "    system_message=\"help the user with his questions\",\n",
        ")\n",
        "\n",
        "# Define a termination condition that checks for handoff message targetting helper and text \"TERMINATE\".\n",
        "# handoff_termination = HandoffTermination(target=\"user\")\n",
        "text_termination = TextMentionTermination(\"TERMINATE\")\n",
        "max_messages_termination = MaxMessageTermination(max_messages=7)\n",
        "combined_termination = max_messages_termination | text_termination\n",
        "\n",
        "# Create a single-agent team.\n",
        "user_proxy = UserProxyAgent(\"user_proxy\", input_func=input)\n",
        "lazy_agent_team = RoundRobinGroupChat([lazy_agent, user_proxy], termination_condition=combined_termination)\n",
        "\n",
        "# Run the team and stream to the console.\n",
        "task = \"What is the weather in New York?\"\n",
        "await Console(lazy_agent_team.run_stream(task=task))"
      ],
      "metadata": {
        "colab": {
          "base_uri": "https://localhost:8080/"
        },
        "id": "98Z9zNcXm66x",
        "outputId": "b6945237-e531-481a-b1f8-8d1267a6616d"
      },
      "execution_count": 28,
      "outputs": [
        {
          "output_type": "stream",
          "name": "stdout",
          "text": [
            "---------- user ----------\n",
            "What is the weather in New York?\n",
            "---------- assistant ----------\n",
            "I'm a large language model, I don't have have access to real-time information, so I can't provide you with the current weather in New York. However, I can suggest some ways for you to find out the current weather in New York:\n",
            "\n",
            "1. **Check online weather websites**: You can visit websites like weather.com, accuweather.com, or wunderground.com to get the current weather conditions in New York.\n",
            "2. **Use a weather app**: You can download a weather app on your smartphone, such as Dark Sky or Weather Underground, to get real-time weather updates for New York.\n",
            "3. **Check social media**: You can check the official social media accounts of the National Weather Service (NWS) or the New York City government to get updates on the weather.\n",
            "4. **Turn on the TV**: You can watch the local news or weather channel on TV to get the current weather conditions in New York.\n",
            "\n",
            "If you're looking for general information about the climate in New York, I can provide you with some information. New York has a humid subtropical climate, with cold winters and hot summers. The average temperature in January, the coldest month, is around 34°F (1°C), while the average temperature in July, the warmest month, is around 84°F (29°C).\n",
            "\n",
            "Please let me know if you have any other questions!\n",
            "Enter your response: who are you?\n",
            "---------- user_proxy ----------\n",
            "who are you?\n",
            "---------- assistant ----------\n",
            "I am a computer program designed to simulate conversation and answer questions to the best of my knowledge. I'm a large language model, which means I've been trained on a massive dataset of text from various sources, including books, articles, and websites.\n",
            "\n",
            "I don't have a personal identity, emotions, or consciousness like a human would. I exist solely to provide information and assist with tasks to the best of my abilities. My purpose is to assist users like you with their questions, provide helpful responses, and engage in conversation.\n",
            "\n",
            "Here are some key facts about me:\n",
            "\n",
            "* **Name:** I don't have a personal name, but I'm often referred to as a \"chatbot\" or a \"language model.\"\n",
            "* **Type:** I'm a machine learning model, specifically a type of natural language processing (NLP) model.\n",
            "* **Training:** I've been trained on a massive dataset of text, which allows me to generate human-like responses to a wide range of questions and topics.\n",
            "* **Capabilities:** I can answer questions, provide information, summarize text, translate languages, and even create text on a given topic.\n",
            "* **Limitations:** I'm not perfect and can make mistakes. I'm also limited by the data I've been trained on, so I may not always have the most up-to-date information or be aware of very recent events.\n",
            "\n",
            "I'm here to help and provide assistance, so feel free to ask me anything!\n",
            "Enter your response: give me only your name\n",
            "---------- user_proxy ----------\n",
            "give me only your name\n",
            "---------- assistant ----------\n",
            "I don't have a personal name.\n",
            "Enter your response: what's your model name?\n",
            "---------- user_proxy ----------\n",
            "what's your model name?\n"
          ]
        },
        {
          "output_type": "execute_result",
          "data": {
            "text/plain": [
              "TaskResult(messages=[TextMessage(source='user', models_usage=None, content='What is the weather in New York?', type='TextMessage'), TextMessage(source='assistant', models_usage=RequestUsage(prompt_tokens=49, completion_tokens=280), content=\"I'm a large language model, I don't have have access to real-time information, so I can't provide you with the current weather in New York. However, I can suggest some ways for you to find out the current weather in New York:\\n\\n1. **Check online weather websites**: You can visit websites like weather.com, accuweather.com, or wunderground.com to get the current weather conditions in New York.\\n2. **Use a weather app**: You can download a weather app on your smartphone, such as Dark Sky or Weather Underground, to get real-time weather updates for New York.\\n3. **Check social media**: You can check the official social media accounts of the National Weather Service (NWS) or the New York City government to get updates on the weather.\\n4. **Turn on the TV**: You can watch the local news or weather channel on TV to get the current weather conditions in New York.\\n\\nIf you're looking for general information about the climate in New York, I can provide you with some information. New York has a humid subtropical climate, with cold winters and hot summers. The average temperature in January, the coldest month, is around 34°F (1°C), while the average temperature in July, the warmest month, is around 84°F (29°C).\\n\\nPlease let me know if you have any other questions!\", type='TextMessage'), UserInputRequestedEvent(source='user_proxy', models_usage=None, request_id='9ab32b06-59ab-48d9-b403-11c391b8b593', content='', type='UserInputRequestedEvent'), TextMessage(source='user_proxy', models_usage=None, content='who are you?', type='TextMessage'), TextMessage(source='assistant', models_usage=RequestUsage(prompt_tokens=342, completion_tokens=291), content='I am a computer program designed to simulate conversation and answer questions to the best of my knowledge. I\\'m a large language model, which means I\\'ve been trained on a massive dataset of text from various sources, including books, articles, and websites.\\n\\nI don\\'t have a personal identity, emotions, or consciousness like a human would. I exist solely to provide information and assist with tasks to the best of my abilities. My purpose is to assist users like you with their questions, provide helpful responses, and engage in conversation.\\n\\nHere are some key facts about me:\\n\\n* **Name:** I don\\'t have a personal name, but I\\'m often referred to as a \"chatbot\" or a \"language model.\"\\n* **Type:** I\\'m a machine learning model, specifically a type of natural language processing (NLP) model.\\n* **Training:** I\\'ve been trained on a massive dataset of text, which allows me to generate human-like responses to a wide range of questions and topics.\\n* **Capabilities:** I can answer questions, provide information, summarize text, translate languages, and even create text on a given topic.\\n* **Limitations:** I\\'m not perfect and can make mistakes. I\\'m also limited by the data I\\'ve been trained on, so I may not always have the most up-to-date information or be aware of very recent events.\\n\\nI\\'m here to help and provide assistance, so feel free to ask me anything!', type='TextMessage'), UserInputRequestedEvent(source='user_proxy', models_usage=None, request_id='bee5d741-1007-4fe8-bc6f-867d8cad041f', content='', type='UserInputRequestedEvent'), TextMessage(source='user_proxy', models_usage=None, content='give me only your name', type='TextMessage'), TextMessage(source='assistant', models_usage=RequestUsage(prompt_tokens=647, completion_tokens=9), content=\"I don't have a personal name.\", type='TextMessage'), UserInputRequestedEvent(source='user_proxy', models_usage=None, request_id='421d57a0-4906-440e-ae28-8ac60a706465', content='', type='UserInputRequestedEvent'), TextMessage(source='user_proxy', models_usage=None, content=\"what's your model name?\", type='TextMessage')], stop_reason='Maximum number of messages 7 reached, current message count: 7')"
            ]
          },
          "metadata": {},
          "execution_count": 28
        }
      ]
    },
    {
      "cell_type": "code",
      "source": [],
      "metadata": {
        "id": "-rJX970zyx-_"
      },
      "execution_count": null,
      "outputs": []
    }
  ],
  "metadata": {
    "kernelspec": {
      "display_name": "Python 3",
      "language": "python",
      "name": "python3"
    },
    "language_info": {
      "codemirror_mode": {
        "name": "ipython",
        "version": 3
      },
      "file_extension": ".py",
      "mimetype": "text/x-python",
      "name": "python",
      "nbconvert_exporter": "python",
      "pygments_lexer": "ipython3",
      "version": "3.9.6"
    },
    "colab": {
      "provenance": []
    }
  },
  "nbformat": 4,
  "nbformat_minor": 0
}