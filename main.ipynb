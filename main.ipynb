{
  "cells": [
    {
      "cell_type": "markdown",
      "source": [
        "Install Requirements ()"
      ],
      "metadata": {
        "id": "N9QpaHdWScCx"
      }
    },
    {
      "cell_type": "code",
      "source": [
        "!pip install autogen-agentchat autogen-ext[openai] -q\n",
        "!pip install groq -q\n",
        "!pip install arxiv -q\n",
        "!pip install PyPDF2 -q"
      ],
      "metadata": {
        "id": "Bv3056-vSioY"
      },
      "execution_count": 1,
      "outputs": []
    },
    {
      "cell_type": "code",
      "source": [
        "from autogen_agentchat.agents import AssistantAgent, UserProxyAgent\n",
        "from autogen_agentchat.conditions import TextMentionTermination\n",
        "from autogen_agentchat.teams import RoundRobinGroupChat\n",
        "from autogen_agentchat.ui import Console\n",
        "from autogen_ext.models.openai import OpenAIChatCompletionClient\n",
        "import arxiv\n",
        "from autogen_core.tools import FunctionTool\n",
        "from autogen_agentchat.conditions import MaxMessageTermination"
      ],
      "metadata": {
        "id": "b5rD4jrbjD52"
      },
      "execution_count": 2,
      "outputs": []
    },
    {
      "cell_type": "code",
      "source": [
        "import os\n",
        "from getpass import getpass\n",
        "\n",
        "tokenGROQ = getpass('Enter GROQ_API_KEY here: ')\n",
        "os.environ[\"GROQ_API_KEY\"] = tokenGROQ"
      ],
      "metadata": {
        "colab": {
          "base_uri": "https://localhost:8080/"
        },
        "id": "0i8fNwjgR_1Q",
        "outputId": "b987cd41-5d87-4cec-f472-cfac216a5caf"
      },
      "execution_count": 3,
      "outputs": [
        {
          "name": "stdout",
          "output_type": "stream",
          "text": [
            "Enter GROQ_API_KEY here: ··········\n"
          ]
        }
      ]
    },
    {
      "cell_type": "code",
      "source": [
        "from autogen_agentchat.agents import AssistantAgent, UserProxyAgent\n",
        "from autogen_agentchat.conditions import TextMentionTermination\n",
        "from autogen_agentchat.teams import RoundRobinGroupChat\n",
        "from autogen_agentchat.ui import Console\n",
        "from autogen_ext.models.openai import OpenAIChatCompletionClient\n",
        "\n",
        "# Create the agents.\n",
        "custom_model_client = OpenAIChatCompletionClient(\n",
        "    model=\"llama-3.3-70b-versatile\",\n",
        "    base_url=\"https://api.groq.com/openai/v1\",\n",
        "    api_key=os.environ[\"GROQ_API_KEY\"],\n",
        "    model_info={\n",
        "        \"vision\": False,\n",
        "        \"function_calling\": True,\n",
        "        \"json_output\": False,\n",
        "        \"family\": \"unknown\",\n",
        "    },\n",
        ")\n",
        "assistant = AssistantAgent(\"assistant\", model_client=custom_model_client)\n",
        "user_proxy = UserProxyAgent(\"user_proxy\", input_func=input)  # Use input() to get user input from console.\n",
        "\n",
        "# Create the termination condition which will end the conversation when the user says \"APPROVE\".\n",
        "termination = TextMentionTermination(\"DONE\")\n",
        "\n",
        "# Create the team.\n",
        "team = RoundRobinGroupChat([assistant, user_proxy], termination_condition=termination)\n",
        "\n",
        "# Run the conversation and stream to the console.\n",
        "stream = team.run_stream(task=\"the pdf file is a little bit large, can you read it if i sent it to you completely, or you need it in small chunks?\")\n",
        "await Console(stream)"
      ],
      "metadata": {
        "colab": {
          "base_uri": "https://localhost:8080/"
        },
        "id": "G_wawy2QRzD7",
        "outputId": "059970c4-f95c-4488-8d31-9c950743a607"
      },
      "execution_count": null,
      "outputs": [
        {
          "output_type": "stream",
          "name": "stdout",
          "text": [
            "---------- user ----------\n",
            "the pdf file is a little bit large, can you read it if i sent it to you completely, or you need it in small chunks?\n",
            "---------- assistant ----------\n",
            "I'm a large language model, I don't have the capability to directly receive or store files, including PDFs. I can process text-based input, but I don't have a file upload or download mechanism.\n",
            "\n",
            "If you'd like to share the content of the PDF with me, you can try copying and pasting the text into this chat window. If the text is too long, you can break it up into smaller chunks and send them to me one at a time. I'll do my best to assist you with the content.\n"
          ]
        }
      ]
    },
    {
      "cell_type": "code",
      "source": [
        "import arxiv\n",
        "\n",
        "# Construct the default API client.\n",
        "client = arxiv.Client()\n",
        "\n",
        "# Search for the 10 most recent articles matching the keyword \"quantum.\"\n",
        "search = arxiv.Search(\n",
        "  query = \"Multi-agent LLM systems\",\n",
        "  max_results = 1,\n",
        "  sort_by = arxiv.SortCriterion.SubmittedDate\n",
        ")\n",
        "\n",
        "for result in client.results(search):\n",
        "  print(f\"Entry ID: {result.entry_id}\")\n",
        "  print(f\"\\nTitle: {result.title}\")\n",
        "  print(f\"\\nAuthors: {', '.join([a.name for a in result.authors])}\")\n",
        "  print(f\"\\nPublished: {result.published}\")\n",
        "  print(f\"\\nUpdated: {result.updated}\")\n",
        "  print(f\"\\nSummary: {result.summary}\")\n",
        "  print(f\"\\nComment: {result.comment}\")\n",
        "  print(f\"\\nJournal Reference: {result.journal_ref}\")\n",
        "  print(f\"\\nDOI: {result.doi}\")\n",
        "  print(f\"\\nPrimary Category: {result.primary_category}\")\n",
        "  print(f\"\\nCategories: {result.categories}\")\n",
        "  print(f\"\\nPDF URL: {result.pdf_url}\\n\")"
      ],
      "metadata": {
        "id": "Q3--wxChSczw"
      },
      "execution_count": null,
      "outputs": []
    },
    {
      "cell_type": "code",
      "source": [
        "paper = next(arxiv.Client().results(arxiv.Search(id_list=[\"1605.08386v1\"])))\n",
        "print(paper.get_short_id())"
      ],
      "metadata": {
        "id": "Ep87-jkLTrUK"
      },
      "execution_count": null,
      "outputs": []
    },
    {
      "cell_type": "code",
      "source": [
        "import PyPDF2\n",
        "import openai\n",
        "\n",
        "# Step 1: Extract text from the PDF\n",
        "pdf_path = \"/content/downloaded-paper.pdf\"  # Adjust the path as needed\n",
        "paper_text = \"\"\n",
        "with open(pdf_path, \"rb\") as f:\n",
        "    reader = PyPDF2.PdfReader(f)\n",
        "    for page in reader.pages:\n",
        "        page_text = page.extract_text()\n",
        "        if page_text:\n",
        "            paper_text += page_text + \"\\n\"\n",
        "\n",
        "# Step 2: Split the text into manageable chunks\n",
        "def chunk_text(text, max_length=2000):\n",
        "    \"\"\"Splits text into chunks of approximately max_length characters.\"\"\"\n",
        "    return [text[i:i+max_length] for i in range(0, len(text), max_length)]\n",
        "\n",
        "\n",
        "chunks = chunk_text(paper_text, max_length=2000)\n"
      ],
      "metadata": {
        "id": "5AunGDZrjK2O"
      },
      "execution_count": null,
      "outputs": []
    },
    {
      "cell_type": "code",
      "source": [
        "print(chunks[1])"
      ],
      "metadata": {
        "id": "x0vdjyOajg2v"
      },
      "execution_count": null,
      "outputs": []
    },
    {
      "cell_type": "markdown",
      "source": [
        "**1. Research Agent (Paper Retriever)**\n",
        "\n",
        "    Purpose: Searches for and downloads relevant academic papers from databases (e.g., Google Scholar, ArXiv, Semantic Scholar).\n",
        "    Responsibilities:\n",
        "    1.   Querying research databases with relevant keywords.\n",
        "    2.   Downloading full-text articles or abstracts.\n",
        "    3.   Storing references in a structured manner (e.g., BibTeX or JSON format)."
      ],
      "metadata": {
        "id": "uo3BTDsURFpG"
      }
    },
    {
      "cell_type": "code",
      "source": [
        "def arxiv_search(query: str, max_results: int = 2) -> list:  # type: ignore[type-arg]\n",
        "    \"\"\"\n",
        "    Search Arxiv for papers and return the results including abstracts.\n",
        "    \"\"\"\n",
        "    import arxiv\n",
        "\n",
        "    client = arxiv.Client()\n",
        "    search = arxiv.Search(query=query, max_results=max_results, sort_by=arxiv.SortCriterion.Relevance)\n",
        "\n",
        "    results = []\n",
        "    for paper in client.results(search):\n",
        "        results.append(\n",
        "            {\n",
        "                \"title\": paper.title,\n",
        "                \"authors\": [author.name for author in paper.authors],\n",
        "                \"published\": paper.published.strftime(\"%Y-%m-%d\"),\n",
        "                \"abstract\": paper.summary,\n",
        "                \"pdf_url\": paper.pdf_url,\n",
        "            }\n",
        "        )\n",
        "\n",
        "    return results"
      ],
      "metadata": {
        "id": "1Xh-w2-nRyJ3"
      },
      "execution_count": 4,
      "outputs": []
    },
    {
      "cell_type": "code",
      "source": [
        "\n",
        "arxiv_search_tool = FunctionTool(\n",
        "    arxiv_search, description=\"Search Arxiv for papers related to a given topic, including abstracts\"\n",
        ")"
      ],
      "metadata": {
        "id": "bgMQA6XXR0Df"
      },
      "execution_count": 5,
      "outputs": []
    },
    {
      "cell_type": "code",
      "source": [
        "arxiv_search_agent = AssistantAgent(\n",
        "    name=\"Arxiv_Search_Agent\",\n",
        "    tools=[arxiv_search_tool],\n",
        "    model_client = OpenAIChatCompletionClient(\n",
        "      model=\"llama3-70b-8192\",\n",
        "      base_url=\"https://api.groq.com/openai/v1\",\n",
        "      api_key=os.environ[\"GROQ_API_KEY\"],\n",
        "      model_info={\n",
        "        \"vision\": False,\n",
        "        \"function_calling\": True,\n",
        "        \"json_output\": False,\n",
        "        \"family\": \"unknown\",\n",
        "      },\n",
        "    ),\n",
        "    description=\"An agent that can search Arxiv for papers related to a given topic, including abstracts\",\n",
        "    system_message=\"You are a helpful AI assistant. Solve tasks using your tools. Specifically, you can take into consideration the user's request and craft a search query that is most likely to return relevant academi papers.\",\n",
        ")"
      ],
      "metadata": {
        "id": "9GjAv34GREHt"
      },
      "execution_count": 6,
      "outputs": []
    },
    {
      "cell_type": "markdown",
      "source": [
        "**2. Reader Agent (Document Processor)**\n",
        "\n",
        "    Purpose: Reads, parses, and extracts key information from research papers.\n",
        "    Responsibilities:\n",
        "    1.   Extracting abstracts, keywords, and main sections (introduction, methodology, results, discussion).\n",
        "    2.   Identifying key arguments, methodologies, and findings.\n",
        "    3.   Converting scanned PDFs to machine-readable text (OCR, if needed)."
      ],
      "metadata": {
        "id": "7maJNTzUSCfw"
      }
    },
    {
      "cell_type": "code",
      "source": [
        "report_agent = AssistantAgent(\n",
        "    name=\"Report_Agent\",\n",
        "    model_client = OpenAIChatCompletionClient(\n",
        "      model=\"llama3-70b-8192\",\n",
        "      base_url=\"https://api.groq.com/openai/v1\",\n",
        "      api_key=os.environ[\"GROQ_API_KEY\"],\n",
        "      model_info={\n",
        "        \"vision\": False,\n",
        "        \"function_calling\": True,\n",
        "        \"json_output\": False,\n",
        "        \"family\": \"unknown\",\n",
        "      },\n",
        "    ),\n",
        "    description=\"Generate a report based on a given topic\",\n",
        "    system_message=\"You are a helpful assistant. Your task is to synthesize data extracted into a high quality literature review including CORRECT references. You MUST write a final report that is formatted as a literature review with CORRECT references.\",\n",
        ")"
      ],
      "metadata": {
        "id": "8-WTA6VISSc7"
      },
      "execution_count": 11,
      "outputs": []
    },
    {
      "cell_type": "markdown",
      "source": [
        "**5. Human Feedback Agent (Interactive Editor)**\n",
        "\n",
        "    Purpose: Allows human users to provide feedback and modify the generated text.\n",
        "    Responsibilities:\n",
        "        1.   Displaying the draft for user review.\n",
        "        2.   Accepting edits, comments, and suggestions.\n",
        "        3.   Incorporating changes into the final version."
      ],
      "metadata": {
        "id": "pd4bpMHQUa3x"
      }
    },
    {
      "cell_type": "code",
      "source": [
        "user_proxy = UserProxyAgent(\"user_proxy\", input_func=input)"
      ],
      "metadata": {
        "id": "2X2u2sPTUq76"
      },
      "execution_count": 8,
      "outputs": []
    },
    {
      "cell_type": "markdown",
      "source": [
        "Finally, we will create a team of agents and configure them to perform the tasks."
      ],
      "metadata": {
        "id": "vedVfvXMTKvl"
      }
    },
    {
      "cell_type": "code",
      "source": [
        "text_mention_termination = TextMentionTermination(\"TERMINATE\")\n",
        "max_messages_termination = MaxMessageTermination(max_messages=25)\n",
        "termination = text_mention_termination | max_messages_termination\n",
        "\n",
        "\n",
        "team = RoundRobinGroupChat(\n",
        "    participants=[arxiv_search_agent, report_agent, user_proxy], termination_condition=termination\n",
        ")"
      ],
      "metadata": {
        "id": "9_m7HjbtTRui"
      },
      "execution_count": 9,
      "outputs": []
    },
    {
      "cell_type": "code",
      "source": [
        "await Console(\n",
        "    team.run_stream(\n",
        "        task=\"Write a literature review on no code tools for building multi agent ai systems\",\n",
        "    )\n",
        ")"
      ],
      "metadata": {
        "id": "kDwrDghbTW_-",
        "outputId": "5ab48664-bf7b-47d1-d83a-e235c0fa6af4",
        "colab": {
          "base_uri": "https://localhost:8080/",
          "height": 1000
        }
      },
      "execution_count": 20,
      "outputs": [
        {
          "name": "stdout",
          "output_type": "stream",
          "text": [
            "---------- user ----------\n",
            "Write a literature review on no code tools for building multi agent ai systems\n",
            "Enter your response: k\n"
          ]
        },
        {
          "output_type": "stream",
          "name": "stderr",
          "text": [
            "ERROR:autogen_core:Error processing publish message for Arxiv_Search_Agent/1aea5634-51b3-4dd6-b276-2bc27e77245c\n",
            "Traceback (most recent call last):\n",
            "  File \"/usr/local/lib/python3.11/dist-packages/autogen_core/_single_threaded_agent_runtime.py\", line 505, in _on_message\n",
            "    return await agent.on_message(\n",
            "           ^^^^^^^^^^^^^^^^^^^^^^^\n",
            "  File \"/usr/local/lib/python3.11/dist-packages/autogen_core/_base_agent.py\", line 113, in on_message\n",
            "    return await self.on_message_impl(message, ctx)\n",
            "           ^^^^^^^^^^^^^^^^^^^^^^^^^^^^^^^^^^^^^^^^\n",
            "  File \"/usr/local/lib/python3.11/dist-packages/autogen_agentchat/teams/_group_chat/_sequential_routed_agent.py\", line 48, in on_message_impl\n",
            "    return await super().on_message_impl(message, ctx)\n",
            "           ^^^^^^^^^^^^^^^^^^^^^^^^^^^^^^^^^^^^^^^^^^^\n",
            "  File \"/usr/local/lib/python3.11/dist-packages/autogen_core/_routed_agent.py\", line 485, in on_message_impl\n",
            "    return await h(self, message, ctx)\n",
            "           ^^^^^^^^^^^^^^^^^^^^^^^^^^^\n",
            "  File \"/usr/local/lib/python3.11/dist-packages/autogen_core/_routed_agent.py\", line 268, in wrapper\n",
            "    return_value = await func(self, message, ctx)  # type: ignore\n",
            "                   ^^^^^^^^^^^^^^^^^^^^^^^^^^^^^^\n",
            "  File \"/usr/local/lib/python3.11/dist-packages/autogen_agentchat/teams/_group_chat/_chat_agent_container.py\", line 53, in handle_request\n",
            "    async for msg in self._agent.on_messages_stream(self._message_buffer, ctx.cancellation_token):\n",
            "  File \"/usr/local/lib/python3.11/dist-packages/autogen_agentchat/agents/_assistant_agent.py\", line 416, in on_messages_stream\n",
            "    model_result = await self._model_client.create(\n",
            "                   ^^^^^^^^^^^^^^^^^^^^^^^^^^^^^^^^\n",
            "  File \"/usr/local/lib/python3.11/dist-packages/autogen_ext/models/openai/_openai_client.py\", line 534, in create\n",
            "    result: Union[ParsedChatCompletion[BaseModel], ChatCompletion] = await future\n",
            "                                                                     ^^^^^^^^^^^^\n",
            "  File \"/usr/local/lib/python3.11/dist-packages/openai/resources/chat/completions.py\", line 1727, in create\n",
            "    return await self._post(\n",
            "           ^^^^^^^^^^^^^^^^^\n",
            "  File \"/usr/local/lib/python3.11/dist-packages/openai/_base_client.py\", line 1849, in post\n",
            "    return await self.request(cast_to, opts, stream=stream, stream_cls=stream_cls)\n",
            "           ^^^^^^^^^^^^^^^^^^^^^^^^^^^^^^^^^^^^^^^^^^^^^^^^^^^^^^^^^^^^^^^^^^^^^^^\n",
            "  File \"/usr/local/lib/python3.11/dist-packages/openai/_base_client.py\", line 1543, in request\n",
            "    return await self._request(\n",
            "           ^^^^^^^^^^^^^^^^^^^^\n",
            "  File \"/usr/local/lib/python3.11/dist-packages/openai/_base_client.py\", line 1644, in _request\n",
            "    raise self._make_status_error_from_response(err.response) from None\n",
            "openai.APIStatusError: Error code: 413 - {'error': {'message': 'Request too large for model `llama3-70b-8192` in organization `org_01jhqbkbx9ed6sspp3k782403s` service tier `on_demand` on tokens per minute (TPM): Limit 6000, Requested 13991, please reduce your message size and try again. Visit https://console.groq.com/docs/rate-limits for more information.', 'type': 'tokens', 'code': 'rate_limit_exceeded'}}\n"
          ]
        },
        {
          "output_type": "error",
          "ename": "CancelledError",
          "evalue": "",
          "traceback": [
            "\u001b[0;31m---------------------------------------------------------------------------\u001b[0m",
            "\u001b[0;31mCancelledError\u001b[0m                            Traceback (most recent call last)",
            "\u001b[0;32m<ipython-input-20-4eef44871482>\u001b[0m in \u001b[0;36m<cell line: 1>\u001b[0;34m()\u001b[0m\n\u001b[0;32m----> 1\u001b[0;31m await Console(\n\u001b[0m\u001b[1;32m      2\u001b[0m     team.run_stream(\n\u001b[1;32m      3\u001b[0m         \u001b[0mtask\u001b[0m\u001b[0;34m=\u001b[0m\u001b[0;34m\"Write a literature review on no code tools for building multi agent ai systems\"\u001b[0m\u001b[0;34m,\u001b[0m\u001b[0;34m\u001b[0m\u001b[0;34m\u001b[0m\u001b[0m\n\u001b[1;32m      4\u001b[0m     )\n\u001b[1;32m      5\u001b[0m )\n",
            "\u001b[0;32m/usr/local/lib/python3.11/dist-packages/autogen_agentchat/ui/_console.py\u001b[0m in \u001b[0;36mConsole\u001b[0;34m(stream, no_inline_images, output_stats, user_input_manager)\u001b[0m\n\u001b[1;32m    115\u001b[0m     \u001b[0mstreaming_chunks\u001b[0m\u001b[0;34m:\u001b[0m \u001b[0mList\u001b[0m\u001b[0;34m[\u001b[0m\u001b[0mstr\u001b[0m\u001b[0;34m]\u001b[0m \u001b[0;34m=\u001b[0m \u001b[0;34m[\u001b[0m\u001b[0;34m]\u001b[0m\u001b[0;34m\u001b[0m\u001b[0;34m\u001b[0m\u001b[0m\n\u001b[1;32m    116\u001b[0m \u001b[0;34m\u001b[0m\u001b[0m\n\u001b[0;32m--> 117\u001b[0;31m     \u001b[0;32masync\u001b[0m \u001b[0;32mfor\u001b[0m \u001b[0mmessage\u001b[0m \u001b[0;32min\u001b[0m \u001b[0mstream\u001b[0m\u001b[0;34m:\u001b[0m\u001b[0;34m\u001b[0m\u001b[0;34m\u001b[0m\u001b[0m\n\u001b[0m\u001b[1;32m    118\u001b[0m         \u001b[0;32mif\u001b[0m \u001b[0misinstance\u001b[0m\u001b[0;34m(\u001b[0m\u001b[0mmessage\u001b[0m\u001b[0;34m,\u001b[0m \u001b[0mTaskResult\u001b[0m\u001b[0;34m)\u001b[0m\u001b[0;34m:\u001b[0m\u001b[0;34m\u001b[0m\u001b[0;34m\u001b[0m\u001b[0m\n\u001b[1;32m    119\u001b[0m             \u001b[0mduration\u001b[0m \u001b[0;34m=\u001b[0m \u001b[0mtime\u001b[0m\u001b[0;34m.\u001b[0m\u001b[0mtime\u001b[0m\u001b[0;34m(\u001b[0m\u001b[0;34m)\u001b[0m \u001b[0;34m-\u001b[0m \u001b[0mstart_time\u001b[0m\u001b[0;34m\u001b[0m\u001b[0;34m\u001b[0m\u001b[0m\n",
            "\u001b[0;32m/usr/local/lib/python3.11/dist-packages/autogen_agentchat/teams/_group_chat/_base_group_chat.py\u001b[0m in \u001b[0;36mrun_stream\u001b[0;34m(self, task, cancellation_token)\u001b[0m\n\u001b[1;32m    431\u001b[0m                     \u001b[0mcancellation_token\u001b[0m\u001b[0;34m.\u001b[0m\u001b[0mlink_future\u001b[0m\u001b[0;34m(\u001b[0m\u001b[0mmessage_future\u001b[0m\u001b[0;34m)\u001b[0m\u001b[0;34m\u001b[0m\u001b[0;34m\u001b[0m\u001b[0m\n\u001b[1;32m    432\u001b[0m                 \u001b[0;31m# Wait for the next message, this will raise an exception if the task is cancelled.\u001b[0m\u001b[0;34m\u001b[0m\u001b[0;34m\u001b[0m\u001b[0m\n\u001b[0;32m--> 433\u001b[0;31m                 \u001b[0mmessage\u001b[0m \u001b[0;34m=\u001b[0m \u001b[0;32mawait\u001b[0m \u001b[0mmessage_future\u001b[0m\u001b[0;34m\u001b[0m\u001b[0;34m\u001b[0m\u001b[0m\n\u001b[0m\u001b[1;32m    434\u001b[0m                 \u001b[0;32mif\u001b[0m \u001b[0mmessage\u001b[0m \u001b[0;32mis\u001b[0m \u001b[0;32mNone\u001b[0m\u001b[0;34m:\u001b[0m\u001b[0;34m\u001b[0m\u001b[0;34m\u001b[0m\u001b[0m\n\u001b[1;32m    435\u001b[0m                     \u001b[0;32mbreak\u001b[0m\u001b[0;34m\u001b[0m\u001b[0;34m\u001b[0m\u001b[0m\n",
            "\u001b[0;32m/usr/lib/python3.11/asyncio/queues.py\u001b[0m in \u001b[0;36mget\u001b[0;34m(self)\u001b[0m\n\u001b[1;32m    156\u001b[0m             \u001b[0mself\u001b[0m\u001b[0;34m.\u001b[0m\u001b[0m_getters\u001b[0m\u001b[0;34m.\u001b[0m\u001b[0mappend\u001b[0m\u001b[0;34m(\u001b[0m\u001b[0mgetter\u001b[0m\u001b[0;34m)\u001b[0m\u001b[0;34m\u001b[0m\u001b[0;34m\u001b[0m\u001b[0m\n\u001b[1;32m    157\u001b[0m             \u001b[0;32mtry\u001b[0m\u001b[0;34m:\u001b[0m\u001b[0;34m\u001b[0m\u001b[0;34m\u001b[0m\u001b[0m\n\u001b[0;32m--> 158\u001b[0;31m                 \u001b[0;32mawait\u001b[0m \u001b[0mgetter\u001b[0m\u001b[0;34m\u001b[0m\u001b[0;34m\u001b[0m\u001b[0m\n\u001b[0m\u001b[1;32m    159\u001b[0m             \u001b[0;32mexcept\u001b[0m\u001b[0;34m:\u001b[0m\u001b[0;34m\u001b[0m\u001b[0;34m\u001b[0m\u001b[0m\n\u001b[1;32m    160\u001b[0m                 \u001b[0mgetter\u001b[0m\u001b[0;34m.\u001b[0m\u001b[0mcancel\u001b[0m\u001b[0;34m(\u001b[0m\u001b[0;34m)\u001b[0m  \u001b[0;31m# Just in case getter is not done yet.\u001b[0m\u001b[0;34m\u001b[0m\u001b[0;34m\u001b[0m\u001b[0m\n",
            "\u001b[0;31mCancelledError\u001b[0m: "
          ]
        }
      ]
    },
    {
      "cell_type": "code",
      "source": [
        "from autogen_agentchat.agents import AssistantAgent\n",
        "from autogen_agentchat.base import Handoff\n",
        "from autogen_agentchat.conditions import HandoffTermination, TextMentionTermination\n",
        "from autogen_agentchat.teams import RoundRobinGroupChat\n",
        "from autogen_agentchat.ui import Console\n",
        "from autogen_ext.models.openai import OpenAIChatCompletionClient\n",
        "\n",
        "custom_model_client = OpenAIChatCompletionClient(\n",
        "    model=\"llama-3.3-70b-versatile\",\n",
        "    base_url=\"https://api.groq.com/openai/v1\",\n",
        "    api_key=os.environ[\"GROQ_API_KEY\"],\n",
        "    model_info={\n",
        "        \"vision\": False,\n",
        "        \"function_calling\": True,\n",
        "        \"json_output\": False,\n",
        "        \"family\": \"unknown\",\n",
        "    },\n",
        ")\n",
        "\n",
        "# Create a lazy assistant agent that always hands off to the user.\n",
        "lazy_agent = AssistantAgent(\n",
        "    \"assistant\",\n",
        "    model_client=custom_model_client,\n",
        "    system_message=\"help the user with his questions\",\n",
        ")\n",
        "\n",
        "# Define a termination condition that checks for handoff message targetting helper and text \"TERMINATE\".\n",
        "# handoff_termination = HandoffTermination(target=\"user\")\n",
        "text_termination = TextMentionTermination(\"TERMINATE\")\n",
        "max_messages_termination = MaxMessageTermination(max_messages=7)\n",
        "combined_termination = max_messages_termination | text_termination\n",
        "\n",
        "# Create a single-agent team.\n",
        "user_proxy = UserProxyAgent(\"user_proxy\", input_func=input)\n",
        "lazy_agent_team = RoundRobinGroupChat([lazy_agent, user_proxy], termination_condition=combined_termination)\n",
        "\n",
        "# Run the team and stream to the console.\n",
        "task = \"What is the weather in New York?\"\n",
        "await Console(lazy_agent_team.run_stream(task=task))"
      ],
      "metadata": {
        "id": "98Z9zNcXm66x",
        "outputId": "b6945237-e531-481a-b1f8-8d1267a6616d",
        "colab": {
          "base_uri": "https://localhost:8080/"
        }
      },
      "execution_count": 28,
      "outputs": [
        {
          "output_type": "stream",
          "name": "stdout",
          "text": [
            "---------- user ----------\n",
            "What is the weather in New York?\n",
            "---------- assistant ----------\n",
            "I'm a large language model, I don't have have access to real-time information, so I can't provide you with the current weather in New York. However, I can suggest some ways for you to find out the current weather in New York:\n",
            "\n",
            "1. **Check online weather websites**: You can visit websites like weather.com, accuweather.com, or wunderground.com to get the current weather conditions in New York.\n",
            "2. **Use a weather app**: You can download a weather app on your smartphone, such as Dark Sky or Weather Underground, to get real-time weather updates for New York.\n",
            "3. **Check social media**: You can check the official social media accounts of the National Weather Service (NWS) or the New York City government to get updates on the weather.\n",
            "4. **Turn on the TV**: You can watch the local news or weather channel on TV to get the current weather conditions in New York.\n",
            "\n",
            "If you're looking for general information about the climate in New York, I can provide you with some information. New York has a humid subtropical climate, with cold winters and hot summers. The average temperature in January, the coldest month, is around 34°F (1°C), while the average temperature in July, the warmest month, is around 84°F (29°C).\n",
            "\n",
            "Please let me know if you have any other questions!\n",
            "Enter your response: who are you?\n",
            "---------- user_proxy ----------\n",
            "who are you?\n",
            "---------- assistant ----------\n",
            "I am a computer program designed to simulate conversation and answer questions to the best of my knowledge. I'm a large language model, which means I've been trained on a massive dataset of text from various sources, including books, articles, and websites.\n",
            "\n",
            "I don't have a personal identity, emotions, or consciousness like a human would. I exist solely to provide information and assist with tasks to the best of my abilities. My purpose is to assist users like you with their questions, provide helpful responses, and engage in conversation.\n",
            "\n",
            "Here are some key facts about me:\n",
            "\n",
            "* **Name:** I don't have a personal name, but I'm often referred to as a \"chatbot\" or a \"language model.\"\n",
            "* **Type:** I'm a machine learning model, specifically a type of natural language processing (NLP) model.\n",
            "* **Training:** I've been trained on a massive dataset of text, which allows me to generate human-like responses to a wide range of questions and topics.\n",
            "* **Capabilities:** I can answer questions, provide information, summarize text, translate languages, and even create text on a given topic.\n",
            "* **Limitations:** I'm not perfect and can make mistakes. I'm also limited by the data I've been trained on, so I may not always have the most up-to-date information or be aware of very recent events.\n",
            "\n",
            "I'm here to help and provide assistance, so feel free to ask me anything!\n",
            "Enter your response: give me only your name\n",
            "---------- user_proxy ----------\n",
            "give me only your name\n",
            "---------- assistant ----------\n",
            "I don't have a personal name.\n",
            "Enter your response: what's your model name?\n",
            "---------- user_proxy ----------\n",
            "what's your model name?\n"
          ]
        },
        {
          "output_type": "execute_result",
          "data": {
            "text/plain": [
              "TaskResult(messages=[TextMessage(source='user', models_usage=None, content='What is the weather in New York?', type='TextMessage'), TextMessage(source='assistant', models_usage=RequestUsage(prompt_tokens=49, completion_tokens=280), content=\"I'm a large language model, I don't have have access to real-time information, so I can't provide you with the current weather in New York. However, I can suggest some ways for you to find out the current weather in New York:\\n\\n1. **Check online weather websites**: You can visit websites like weather.com, accuweather.com, or wunderground.com to get the current weather conditions in New York.\\n2. **Use a weather app**: You can download a weather app on your smartphone, such as Dark Sky or Weather Underground, to get real-time weather updates for New York.\\n3. **Check social media**: You can check the official social media accounts of the National Weather Service (NWS) or the New York City government to get updates on the weather.\\n4. **Turn on the TV**: You can watch the local news or weather channel on TV to get the current weather conditions in New York.\\n\\nIf you're looking for general information about the climate in New York, I can provide you with some information. New York has a humid subtropical climate, with cold winters and hot summers. The average temperature in January, the coldest month, is around 34°F (1°C), while the average temperature in July, the warmest month, is around 84°F (29°C).\\n\\nPlease let me know if you have any other questions!\", type='TextMessage'), UserInputRequestedEvent(source='user_proxy', models_usage=None, request_id='9ab32b06-59ab-48d9-b403-11c391b8b593', content='', type='UserInputRequestedEvent'), TextMessage(source='user_proxy', models_usage=None, content='who are you?', type='TextMessage'), TextMessage(source='assistant', models_usage=RequestUsage(prompt_tokens=342, completion_tokens=291), content='I am a computer program designed to simulate conversation and answer questions to the best of my knowledge. I\\'m a large language model, which means I\\'ve been trained on a massive dataset of text from various sources, including books, articles, and websites.\\n\\nI don\\'t have a personal identity, emotions, or consciousness like a human would. I exist solely to provide information and assist with tasks to the best of my abilities. My purpose is to assist users like you with their questions, provide helpful responses, and engage in conversation.\\n\\nHere are some key facts about me:\\n\\n* **Name:** I don\\'t have a personal name, but I\\'m often referred to as a \"chatbot\" or a \"language model.\"\\n* **Type:** I\\'m a machine learning model, specifically a type of natural language processing (NLP) model.\\n* **Training:** I\\'ve been trained on a massive dataset of text, which allows me to generate human-like responses to a wide range of questions and topics.\\n* **Capabilities:** I can answer questions, provide information, summarize text, translate languages, and even create text on a given topic.\\n* **Limitations:** I\\'m not perfect and can make mistakes. I\\'m also limited by the data I\\'ve been trained on, so I may not always have the most up-to-date information or be aware of very recent events.\\n\\nI\\'m here to help and provide assistance, so feel free to ask me anything!', type='TextMessage'), UserInputRequestedEvent(source='user_proxy', models_usage=None, request_id='bee5d741-1007-4fe8-bc6f-867d8cad041f', content='', type='UserInputRequestedEvent'), TextMessage(source='user_proxy', models_usage=None, content='give me only your name', type='TextMessage'), TextMessage(source='assistant', models_usage=RequestUsage(prompt_tokens=647, completion_tokens=9), content=\"I don't have a personal name.\", type='TextMessage'), UserInputRequestedEvent(source='user_proxy', models_usage=None, request_id='421d57a0-4906-440e-ae28-8ac60a706465', content='', type='UserInputRequestedEvent'), TextMessage(source='user_proxy', models_usage=None, content=\"what's your model name?\", type='TextMessage')], stop_reason='Maximum number of messages 7 reached, current message count: 7')"
            ]
          },
          "metadata": {},
          "execution_count": 28
        }
      ]
    }
  ],
  "metadata": {
    "kernelspec": {
      "display_name": "Python 3",
      "language": "python",
      "name": "python3"
    },
    "language_info": {
      "codemirror_mode": {
        "name": "ipython",
        "version": 3
      },
      "file_extension": ".py",
      "mimetype": "text/x-python",
      "name": "python",
      "nbconvert_exporter": "python",
      "pygments_lexer": "ipython3",
      "version": "3.9.6"
    },
    "colab": {
      "provenance": []
    }
  },
  "nbformat": 4,
  "nbformat_minor": 0
}